{
 "cells": [
  {
   "cell_type": "code",
   "execution_count": 131,
   "metadata": {
    "collapsed": false
   },
   "outputs": [],
   "source": [
    "import pandas as pd\n",
    "import numpy as np\n",
    "import matplotlib.pyplot as plt\n",
    "%matplotlib inline\n",
    "plt.style.use('fivethirtyeight')"
   ]
  },
  {
   "cell_type": "code",
   "execution_count": 132,
   "metadata": {
    "collapsed": true
   },
   "outputs": [],
   "source": [
    "df_raw = pd.read_csv(\"../data/rbi_money_circulation.csv\")"
   ]
  },
  {
   "cell_type": "code",
   "execution_count": 133,
   "metadata": {
    "collapsed": false
   },
   "outputs": [
    {
     "data": {
      "text/html": [
       "<div>\n",
       "<table border=\"1\" class=\"dataframe\">\n",
       "  <thead>\n",
       "    <tr style=\"text-align: right;\">\n",
       "      <th></th>\n",
       "      <th>Year</th>\n",
       "      <th>Coins - 0.5</th>\n",
       "      <th>Coins - 1</th>\n",
       "      <th>Coins - 2</th>\n",
       "      <th>Coins - 5</th>\n",
       "      <th>Coins - 10</th>\n",
       "      <th>Notes - 1</th>\n",
       "      <th>Notes - 2</th>\n",
       "      <th>Notes - 5</th>\n",
       "      <th>Notes - 10</th>\n",
       "      <th>Notes - 20</th>\n",
       "      <th>Notes - 50</th>\n",
       "      <th>Notes - 100</th>\n",
       "      <th>Notes - 500</th>\n",
       "      <th>Notes - 1000</th>\n",
       "    </tr>\n",
       "  </thead>\n",
       "  <tbody>\n",
       "    <tr>\n",
       "      <th>0</th>\n",
       "      <td>1977</td>\n",
       "      <td>1.97</td>\n",
       "      <td>0.96</td>\n",
       "      <td>0.0</td>\n",
       "      <td>0.0</td>\n",
       "      <td>0.0</td>\n",
       "      <td>2.72</td>\n",
       "      <td>1.48</td>\n",
       "      <td>5.72</td>\n",
       "      <td>18.25</td>\n",
       "      <td>6.90</td>\n",
       "      <td>9.95</td>\n",
       "      <td>43.02</td>\n",
       "      <td>0.0</td>\n",
       "      <td>0.55</td>\n",
       "    </tr>\n",
       "    <tr>\n",
       "      <th>1</th>\n",
       "      <td>1978</td>\n",
       "      <td>2.09</td>\n",
       "      <td>1.10</td>\n",
       "      <td>0.0</td>\n",
       "      <td>0.0</td>\n",
       "      <td>0.0</td>\n",
       "      <td>2.56</td>\n",
       "      <td>1.74</td>\n",
       "      <td>5.76</td>\n",
       "      <td>19.57</td>\n",
       "      <td>7.79</td>\n",
       "      <td>14.40</td>\n",
       "      <td>53.69</td>\n",
       "      <td>0.0</td>\n",
       "      <td>0.00</td>\n",
       "    </tr>\n",
       "    <tr>\n",
       "      <th>2</th>\n",
       "      <td>1979</td>\n",
       "      <td>2.25</td>\n",
       "      <td>1.26</td>\n",
       "      <td>0.0</td>\n",
       "      <td>0.0</td>\n",
       "      <td>0.0</td>\n",
       "      <td>2.14</td>\n",
       "      <td>2.15</td>\n",
       "      <td>5.88</td>\n",
       "      <td>21.23</td>\n",
       "      <td>9.61</td>\n",
       "      <td>19.83</td>\n",
       "      <td>59.51</td>\n",
       "      <td>0.0</td>\n",
       "      <td>0.00</td>\n",
       "    </tr>\n",
       "    <tr>\n",
       "      <th>3</th>\n",
       "      <td>1980</td>\n",
       "      <td>2.43</td>\n",
       "      <td>1.41</td>\n",
       "      <td>0.0</td>\n",
       "      <td>0.0</td>\n",
       "      <td>0.0</td>\n",
       "      <td>2.07</td>\n",
       "      <td>2.99</td>\n",
       "      <td>6.34</td>\n",
       "      <td>20.97</td>\n",
       "      <td>10.90</td>\n",
       "      <td>22.06</td>\n",
       "      <td>74.06</td>\n",
       "      <td>0.0</td>\n",
       "      <td>0.00</td>\n",
       "    </tr>\n",
       "    <tr>\n",
       "      <th>4</th>\n",
       "      <td>1981</td>\n",
       "      <td>2.63</td>\n",
       "      <td>1.54</td>\n",
       "      <td>0.0</td>\n",
       "      <td>0.0</td>\n",
       "      <td>0.0</td>\n",
       "      <td>2.12</td>\n",
       "      <td>3.92</td>\n",
       "      <td>6.92</td>\n",
       "      <td>19.91</td>\n",
       "      <td>12.14</td>\n",
       "      <td>27.24</td>\n",
       "      <td>78.29</td>\n",
       "      <td>0.0</td>\n",
       "      <td>0.00</td>\n",
       "    </tr>\n",
       "  </tbody>\n",
       "</table>\n",
       "</div>"
      ],
      "text/plain": [
       "   Year  Coins - 0.5  Coins - 1  Coins - 2  Coins - 5  Coins - 10  Notes - 1  \\\n",
       "0  1977         1.97       0.96        0.0        0.0         0.0       2.72   \n",
       "1  1978         2.09       1.10        0.0        0.0         0.0       2.56   \n",
       "2  1979         2.25       1.26        0.0        0.0         0.0       2.14   \n",
       "3  1980         2.43       1.41        0.0        0.0         0.0       2.07   \n",
       "4  1981         2.63       1.54        0.0        0.0         0.0       2.12   \n",
       "\n",
       "   Notes - 2  Notes - 5  Notes - 10  Notes - 20  Notes - 50  Notes - 100  \\\n",
       "0       1.48       5.72       18.25        6.90        9.95        43.02   \n",
       "1       1.74       5.76       19.57        7.79       14.40        53.69   \n",
       "2       2.15       5.88       21.23        9.61       19.83        59.51   \n",
       "3       2.99       6.34       20.97       10.90       22.06        74.06   \n",
       "4       3.92       6.92       19.91       12.14       27.24        78.29   \n",
       "\n",
       "   Notes - 500  Notes - 1000  \n",
       "0          0.0          0.55  \n",
       "1          0.0          0.00  \n",
       "2          0.0          0.00  \n",
       "3          0.0          0.00  \n",
       "4          0.0          0.00  "
      ]
     },
     "execution_count": 133,
     "metadata": {},
     "output_type": "execute_result"
    }
   ],
   "source": [
    "df_raw.head()"
   ]
  },
  {
   "cell_type": "code",
   "execution_count": 134,
   "metadata": {
    "collapsed": false
   },
   "outputs": [
    {
     "data": {
      "text/plain": [
       "Year              int64\n",
       "Coins - 0.5     float64\n",
       "Coins - 1       float64\n",
       "Coins - 2       float64\n",
       "Coins - 5       float64\n",
       "Coins - 10      float64\n",
       "Notes - 1       float64\n",
       "Notes - 2       float64\n",
       "Notes - 5       float64\n",
       "Notes - 10      float64\n",
       "Notes - 20      float64\n",
       "Notes - 50      float64\n",
       "Notes - 100     float64\n",
       "Notes - 500     float64\n",
       "Notes - 1000    float64\n",
       "dtype: object"
      ]
     },
     "execution_count": 134,
     "metadata": {},
     "output_type": "execute_result"
    }
   ],
   "source": [
    "df_raw.dtypes"
   ]
  },
  {
   "cell_type": "code",
   "execution_count": 136,
   "metadata": {
    "collapsed": false
   },
   "outputs": [],
   "source": [
    "df = pd.melt(df_raw, id_vars=['Year'], var_name='Currency', value_name='Value')"
   ]
  },
  {
   "cell_type": "code",
   "execution_count": 137,
   "metadata": {
    "collapsed": false
   },
   "outputs": [
    {
     "data": {
      "text/html": [
       "<div>\n",
       "<table border=\"1\" class=\"dataframe\">\n",
       "  <thead>\n",
       "    <tr style=\"text-align: right;\">\n",
       "      <th></th>\n",
       "      <th>Year</th>\n",
       "      <th>Currency</th>\n",
       "      <th>Value</th>\n",
       "    </tr>\n",
       "  </thead>\n",
       "  <tbody>\n",
       "    <tr>\n",
       "      <th>541</th>\n",
       "      <td>2011</td>\n",
       "      <td>Notes - 1000</td>\n",
       "      <td>3468.81</td>\n",
       "    </tr>\n",
       "    <tr>\n",
       "      <th>542</th>\n",
       "      <td>2012</td>\n",
       "      <td>Notes - 1000</td>\n",
       "      <td>4299.00</td>\n",
       "    </tr>\n",
       "    <tr>\n",
       "      <th>543</th>\n",
       "      <td>2013</td>\n",
       "      <td>Notes - 1000</td>\n",
       "      <td>5081.37</td>\n",
       "    </tr>\n",
       "    <tr>\n",
       "      <th>544</th>\n",
       "      <td>2014</td>\n",
       "      <td>Notes - 1000</td>\n",
       "      <td>5612.45</td>\n",
       "    </tr>\n",
       "    <tr>\n",
       "      <th>545</th>\n",
       "      <td>2015</td>\n",
       "      <td>Notes - 1000</td>\n",
       "      <td>6325.68</td>\n",
       "    </tr>\n",
       "  </tbody>\n",
       "</table>\n",
       "</div>"
      ],
      "text/plain": [
       "     Year      Currency    Value\n",
       "541  2011  Notes - 1000  3468.81\n",
       "542  2012  Notes - 1000  4299.00\n",
       "543  2013  Notes - 1000  5081.37\n",
       "544  2014  Notes - 1000  5612.45\n",
       "545  2015  Notes - 1000  6325.68"
      ]
     },
     "execution_count": 137,
     "metadata": {},
     "output_type": "execute_result"
    }
   ],
   "source": [
    "df.tail()"
   ]
  },
  {
   "cell_type": "code",
   "execution_count": 138,
   "metadata": {
    "collapsed": false
   },
   "outputs": [],
   "source": [
    "df['Type'] = df.Currency.str.split('-').str[0]\n",
    "df['Denom'] = df.Currency.str.split('-').str[1]"
   ]
  },
  {
   "cell_type": "code",
   "execution_count": 139,
   "metadata": {
    "collapsed": false
   },
   "outputs": [
    {
     "data": {
      "text/html": [
       "<div>\n",
       "<table border=\"1\" class=\"dataframe\">\n",
       "  <thead>\n",
       "    <tr style=\"text-align: right;\">\n",
       "      <th></th>\n",
       "      <th>Year</th>\n",
       "      <th>Currency</th>\n",
       "      <th>Value</th>\n",
       "      <th>Type</th>\n",
       "      <th>Denom</th>\n",
       "    </tr>\n",
       "  </thead>\n",
       "  <tbody>\n",
       "    <tr>\n",
       "      <th>541</th>\n",
       "      <td>2011</td>\n",
       "      <td>Notes - 1000</td>\n",
       "      <td>3468.81</td>\n",
       "      <td>Notes</td>\n",
       "      <td>1000</td>\n",
       "    </tr>\n",
       "    <tr>\n",
       "      <th>542</th>\n",
       "      <td>2012</td>\n",
       "      <td>Notes - 1000</td>\n",
       "      <td>4299.00</td>\n",
       "      <td>Notes</td>\n",
       "      <td>1000</td>\n",
       "    </tr>\n",
       "    <tr>\n",
       "      <th>543</th>\n",
       "      <td>2013</td>\n",
       "      <td>Notes - 1000</td>\n",
       "      <td>5081.37</td>\n",
       "      <td>Notes</td>\n",
       "      <td>1000</td>\n",
       "    </tr>\n",
       "    <tr>\n",
       "      <th>544</th>\n",
       "      <td>2014</td>\n",
       "      <td>Notes - 1000</td>\n",
       "      <td>5612.45</td>\n",
       "      <td>Notes</td>\n",
       "      <td>1000</td>\n",
       "    </tr>\n",
       "    <tr>\n",
       "      <th>545</th>\n",
       "      <td>2015</td>\n",
       "      <td>Notes - 1000</td>\n",
       "      <td>6325.68</td>\n",
       "      <td>Notes</td>\n",
       "      <td>1000</td>\n",
       "    </tr>\n",
       "  </tbody>\n",
       "</table>\n",
       "</div>"
      ],
      "text/plain": [
       "     Year      Currency    Value    Type  Denom\n",
       "541  2011  Notes - 1000  3468.81  Notes    1000\n",
       "542  2012  Notes - 1000  4299.00  Notes    1000\n",
       "543  2013  Notes - 1000  5081.37  Notes    1000\n",
       "544  2014  Notes - 1000  5612.45  Notes    1000\n",
       "545  2015  Notes - 1000  6325.68  Notes    1000"
      ]
     },
     "execution_count": 139,
     "metadata": {},
     "output_type": "execute_result"
    }
   ],
   "source": [
    "df.tail()"
   ]
  },
  {
   "cell_type": "code",
   "execution_count": 140,
   "metadata": {
    "collapsed": false
   },
   "outputs": [
    {
     "data": {
      "text/plain": [
       "Year          int64\n",
       "Currency     object\n",
       "Value       float64\n",
       "Type         object\n",
       "Denom        object\n",
       "dtype: object"
      ]
     },
     "execution_count": 140,
     "metadata": {},
     "output_type": "execute_result"
    }
   ],
   "source": [
    "df.dtypes"
   ]
  },
  {
   "cell_type": "code",
   "execution_count": 141,
   "metadata": {
    "collapsed": false
   },
   "outputs": [],
   "source": [
    "df['Value'] = pd.to_numeric(df['Value'])\n",
    "df['Denom'] = pd.to_numeric(df['Denom'])\n",
    "df['Year'] = pd.to_numeric(df['Year'])"
   ]
  },
  {
   "cell_type": "code",
   "execution_count": 142,
   "metadata": {
    "collapsed": false
   },
   "outputs": [
    {
     "data": {
      "text/plain": [
       "Year          int64\n",
       "Currency     object\n",
       "Value       float64\n",
       "Type         object\n",
       "Denom       float64\n",
       "dtype: object"
      ]
     },
     "execution_count": 142,
     "metadata": {},
     "output_type": "execute_result"
    }
   ],
   "source": [
    "df.dtypes"
   ]
  },
  {
   "cell_type": "code",
   "execution_count": 164,
   "metadata": {
    "collapsed": false
   },
   "outputs": [],
   "source": [
    "df['Quantity'] = (df['Value']/df['Denom']).round(3)"
   ]
  },
  {
   "cell_type": "code",
   "execution_count": 165,
   "metadata": {
    "collapsed": false
   },
   "outputs": [
    {
     "data": {
      "text/html": [
       "<div>\n",
       "<table border=\"1\" class=\"dataframe\">\n",
       "  <thead>\n",
       "    <tr style=\"text-align: right;\">\n",
       "      <th></th>\n",
       "      <th>Year</th>\n",
       "      <th>Currency</th>\n",
       "      <th>Value</th>\n",
       "      <th>Type</th>\n",
       "      <th>Denom</th>\n",
       "      <th>Quantity</th>\n",
       "    </tr>\n",
       "  </thead>\n",
       "  <tbody>\n",
       "    <tr>\n",
       "      <th>0</th>\n",
       "      <td>1977</td>\n",
       "      <td>Coins - 0.5</td>\n",
       "      <td>1.97</td>\n",
       "      <td>Coins</td>\n",
       "      <td>0.5</td>\n",
       "      <td>3.940</td>\n",
       "    </tr>\n",
       "    <tr>\n",
       "      <th>429</th>\n",
       "      <td>1977</td>\n",
       "      <td>Notes - 100</td>\n",
       "      <td>43.02</td>\n",
       "      <td>Notes</td>\n",
       "      <td>100.0</td>\n",
       "      <td>0.430</td>\n",
       "    </tr>\n",
       "    <tr>\n",
       "      <th>312</th>\n",
       "      <td>1977</td>\n",
       "      <td>Notes - 10</td>\n",
       "      <td>18.25</td>\n",
       "      <td>Notes</td>\n",
       "      <td>10.0</td>\n",
       "      <td>1.825</td>\n",
       "    </tr>\n",
       "    <tr>\n",
       "      <th>273</th>\n",
       "      <td>1977</td>\n",
       "      <td>Notes - 5</td>\n",
       "      <td>5.72</td>\n",
       "      <td>Notes</td>\n",
       "      <td>5.0</td>\n",
       "      <td>1.144</td>\n",
       "    </tr>\n",
       "    <tr>\n",
       "      <th>234</th>\n",
       "      <td>1977</td>\n",
       "      <td>Notes - 2</td>\n",
       "      <td>1.48</td>\n",
       "      <td>Notes</td>\n",
       "      <td>2.0</td>\n",
       "      <td>0.740</td>\n",
       "    </tr>\n",
       "  </tbody>\n",
       "</table>\n",
       "</div>"
      ],
      "text/plain": [
       "     Year     Currency  Value    Type  Denom  Quantity\n",
       "0    1977  Coins - 0.5   1.97  Coins     0.5     3.940\n",
       "429  1977  Notes - 100  43.02  Notes   100.0     0.430\n",
       "312  1977   Notes - 10  18.25  Notes    10.0     1.825\n",
       "273  1977    Notes - 5   5.72  Notes     5.0     1.144\n",
       "234  1977    Notes - 2   1.48  Notes     2.0     0.740"
      ]
     },
     "execution_count": 165,
     "metadata": {},
     "output_type": "execute_result"
    }
   ],
   "source": [
    "df.head()"
   ]
  },
  {
   "cell_type": "code",
   "execution_count": 166,
   "metadata": {
    "collapsed": false
   },
   "outputs": [],
   "source": [
    "df = df.sort_values(by=\"Year\")"
   ]
  },
  {
   "cell_type": "code",
   "execution_count": 167,
   "metadata": {
    "collapsed": true
   },
   "outputs": [],
   "source": [
    "df.to_csv(\"../data/money.csv\", index=False)"
   ]
  },
  {
   "cell_type": "code",
   "execution_count": 147,
   "metadata": {
    "collapsed": false
   },
   "outputs": [],
   "source": [
    "dfValue = pd.pivot_table(df, values = \"Value\", columns = \"Currency\", index = \"Year\")"
   ]
  },
  {
   "cell_type": "code",
   "execution_count": 148,
   "metadata": {
    "collapsed": false
   },
   "outputs": [
    {
     "data": {
      "text/html": [
       "<div>\n",
       "<table border=\"1\" class=\"dataframe\">\n",
       "  <thead>\n",
       "    <tr style=\"text-align: right;\">\n",
       "      <th>Currency</th>\n",
       "      <th>Coins - 0.5</th>\n",
       "      <th>Coins - 1</th>\n",
       "      <th>Coins - 10</th>\n",
       "      <th>Coins - 2</th>\n",
       "      <th>Coins - 5</th>\n",
       "      <th>Notes - 1</th>\n",
       "      <th>Notes - 10</th>\n",
       "      <th>Notes - 100</th>\n",
       "      <th>Notes - 1000</th>\n",
       "      <th>Notes - 2</th>\n",
       "      <th>Notes - 20</th>\n",
       "      <th>Notes - 5</th>\n",
       "      <th>Notes - 50</th>\n",
       "      <th>Notes - 500</th>\n",
       "    </tr>\n",
       "    <tr>\n",
       "      <th>Year</th>\n",
       "      <th></th>\n",
       "      <th></th>\n",
       "      <th></th>\n",
       "      <th></th>\n",
       "      <th></th>\n",
       "      <th></th>\n",
       "      <th></th>\n",
       "      <th></th>\n",
       "      <th></th>\n",
       "      <th></th>\n",
       "      <th></th>\n",
       "      <th></th>\n",
       "      <th></th>\n",
       "      <th></th>\n",
       "    </tr>\n",
       "  </thead>\n",
       "  <tbody>\n",
       "    <tr>\n",
       "      <th>1977</th>\n",
       "      <td>1.97</td>\n",
       "      <td>0.96</td>\n",
       "      <td>0.0</td>\n",
       "      <td>0.0</td>\n",
       "      <td>0.0</td>\n",
       "      <td>2.72</td>\n",
       "      <td>18.25</td>\n",
       "      <td>43.02</td>\n",
       "      <td>0.55</td>\n",
       "      <td>1.48</td>\n",
       "      <td>6.90</td>\n",
       "      <td>5.72</td>\n",
       "      <td>9.95</td>\n",
       "      <td>0.0</td>\n",
       "    </tr>\n",
       "    <tr>\n",
       "      <th>1978</th>\n",
       "      <td>2.09</td>\n",
       "      <td>1.10</td>\n",
       "      <td>0.0</td>\n",
       "      <td>0.0</td>\n",
       "      <td>0.0</td>\n",
       "      <td>2.56</td>\n",
       "      <td>19.57</td>\n",
       "      <td>53.69</td>\n",
       "      <td>0.00</td>\n",
       "      <td>1.74</td>\n",
       "      <td>7.79</td>\n",
       "      <td>5.76</td>\n",
       "      <td>14.40</td>\n",
       "      <td>0.0</td>\n",
       "    </tr>\n",
       "    <tr>\n",
       "      <th>1979</th>\n",
       "      <td>2.25</td>\n",
       "      <td>1.26</td>\n",
       "      <td>0.0</td>\n",
       "      <td>0.0</td>\n",
       "      <td>0.0</td>\n",
       "      <td>2.14</td>\n",
       "      <td>21.23</td>\n",
       "      <td>59.51</td>\n",
       "      <td>0.00</td>\n",
       "      <td>2.15</td>\n",
       "      <td>9.61</td>\n",
       "      <td>5.88</td>\n",
       "      <td>19.83</td>\n",
       "      <td>0.0</td>\n",
       "    </tr>\n",
       "    <tr>\n",
       "      <th>1980</th>\n",
       "      <td>2.43</td>\n",
       "      <td>1.41</td>\n",
       "      <td>0.0</td>\n",
       "      <td>0.0</td>\n",
       "      <td>0.0</td>\n",
       "      <td>2.07</td>\n",
       "      <td>20.97</td>\n",
       "      <td>74.06</td>\n",
       "      <td>0.00</td>\n",
       "      <td>2.99</td>\n",
       "      <td>10.90</td>\n",
       "      <td>6.34</td>\n",
       "      <td>22.06</td>\n",
       "      <td>0.0</td>\n",
       "    </tr>\n",
       "    <tr>\n",
       "      <th>1981</th>\n",
       "      <td>2.63</td>\n",
       "      <td>1.54</td>\n",
       "      <td>0.0</td>\n",
       "      <td>0.0</td>\n",
       "      <td>0.0</td>\n",
       "      <td>2.12</td>\n",
       "      <td>19.91</td>\n",
       "      <td>78.29</td>\n",
       "      <td>0.00</td>\n",
       "      <td>3.92</td>\n",
       "      <td>12.14</td>\n",
       "      <td>6.92</td>\n",
       "      <td>27.24</td>\n",
       "      <td>0.0</td>\n",
       "    </tr>\n",
       "  </tbody>\n",
       "</table>\n",
       "</div>"
      ],
      "text/plain": [
       "Currency  Coins - 0.5  Coins - 1  Coins - 10  Coins - 2  Coins - 5  Notes - 1  \\\n",
       "Year                                                                            \n",
       "1977             1.97       0.96         0.0        0.0        0.0       2.72   \n",
       "1978             2.09       1.10         0.0        0.0        0.0       2.56   \n",
       "1979             2.25       1.26         0.0        0.0        0.0       2.14   \n",
       "1980             2.43       1.41         0.0        0.0        0.0       2.07   \n",
       "1981             2.63       1.54         0.0        0.0        0.0       2.12   \n",
       "\n",
       "Currency  Notes - 10  Notes - 100  Notes - 1000  Notes - 2  Notes - 20  \\\n",
       "Year                                                                     \n",
       "1977           18.25        43.02          0.55       1.48        6.90   \n",
       "1978           19.57        53.69          0.00       1.74        7.79   \n",
       "1979           21.23        59.51          0.00       2.15        9.61   \n",
       "1980           20.97        74.06          0.00       2.99       10.90   \n",
       "1981           19.91        78.29          0.00       3.92       12.14   \n",
       "\n",
       "Currency  Notes - 5  Notes - 50  Notes - 500  \n",
       "Year                                          \n",
       "1977           5.72        9.95          0.0  \n",
       "1978           5.76       14.40          0.0  \n",
       "1979           5.88       19.83          0.0  \n",
       "1980           6.34       22.06          0.0  \n",
       "1981           6.92       27.24          0.0  "
      ]
     },
     "execution_count": 148,
     "metadata": {},
     "output_type": "execute_result"
    }
   ],
   "source": [
    "dfValue.head()"
   ]
  },
  {
   "cell_type": "code",
   "execution_count": 149,
   "metadata": {
    "collapsed": false
   },
   "outputs": [
    {
     "data": {
      "text/plain": [
       "<matplotlib.axes._subplots.AxesSubplot at 0x112940080>"
      ]
     },
     "execution_count": 149,
     "metadata": {},
     "output_type": "execute_result"
    },
    {
     "data": {
      "image/png": "[encoded data removed]",
      "text/plain": [
       "<matplotlib.figure.Figure at 0x112945748>"
      ]
     },
     "metadata": {},
     "output_type": "display_data"
    }
   ],
   "source": [
    "dfValue.plot.area(stacked = True, legend=False)"
   ]
  },
  {
   "cell_type": "code",
   "execution_count": null,
   "metadata": {
    "collapsed": true
   },
   "outputs": [],
   "source": []
  }
 ],
 "metadata": {
  "anaconda-cloud": {},
  "kernelspec": {
   "display_name": "Python [default]",
   "language": "python",
   "name": "python3"
  },
  "language_info": {
   "codemirror_mode": {
    "name": "ipython",
    "version": 3
   },
   "file_extension": ".py",
   "mimetype": "text/x-python",
   "name": "python",
   "nbconvert_exporter": "python",
   "pygments_lexer": "ipython3",
   "version": "3.5.2"
  }
 },
 "nbformat": 4,
 "nbformat_minor": 1
}
